{
 "cells": [
  {
   "cell_type": "markdown",
   "metadata": {},
   "source": [
    "# Week 7"
   ]
  },
  {
   "cell_type": "markdown",
   "metadata": {},
   "source": [
    "### 01 Assignment\n",
    "1. Create a python class called dba_bike_webscraper. Make _ _ init _ _(url). Url to be used: https://www.dba.dk\n",
    "2. Create a function cookie_handler. Use selenium to go to dba.dk and handle the cookie pop-up.\n",
    "3. Create function first_n_listings(search_word, n=15). Use selenium to search ''Cykel'' and find the first 15 listings. Use BeatifulSoup to extract links, the prices and the address of the seller, and return this data. \n",
    "4. Sort the bikes by cheapest and create a bar plot, where the link to the bike is x-axis and the price is y-axis.\n",
    "5. Make count of bikes by the sizes of their wheels in inches using a regex, if they have no info listed, mark them as undefined on a plot"
   ]
  },
  {
   "cell_type": "markdown",
   "metadata": {},
   "source": [
    "### 02 Status\n",
    "\n",
    "I completed some of the exercises, but due to a very stressful week I haven't completed this week's assignments."
   ]
  },
  {
   "cell_type": "markdown",
   "metadata": {},
   "source": [
    "### 03 Solutions"
   ]
  },
  {
   "cell_type": "code",
   "execution_count": 6,
   "metadata": {},
   "outputs": [
    {
     "name": "stdout",
     "output_type": "stream",
     "text": [
      "<html class=\"js no-touch history rgba multiplebgs borderradius boxshadow textshadow opacity cssgradients csstransitions generatedcontent localstorage boxsizing filereader fileinput placeholder\" lang=\"da\" style=\"\">\n",
      " <head>\n",
      "  <title>\n",
      "   Find Cykel på DBA - køb og salg af nyt og brugt\n",
      "  </title>\n",
      "  <meta charset=\"utf-8\"/>\n",
      "  <link href=\"https://www.dba.dk/soeg/?soeg=cykel\" rel=\"canonical\"/>\n",
      "  <link href=\"https://dbastatic.dk/Content/dba.ico?2.0.0.0-afbb31dd6942d69a10f29c14cc46ebf7ca1f1374\" rel=\"shortcut icon\" type=\"image/x-icon\"/>\n",
      "  <link href=\"https://dbastatic.dk/Content/dba.ico?2.0.0.0-afbb31dd6942d69a10f29c14cc46ebf7ca1f1374\" rel=\"icon\" type=\"image/x-icon\"/>\n",
      "  <meta content=\"width=960\" name=\"viewport\"/>\n",
      "  <meta content=\"Annoncer med Cykel på DBA. Stort udvalg af Cykel til billige priser. På DBA finder du altid et godt tilbud på både nye og brugte varer til salg \" name=\"description\"/>\n",
      "  <link href=\"https://www.dba.dk/soeg/side-2/?soeg=cykel\" rel=\"next\"/>\n",
      "  <link as=\"font\" crossorigin=\"\" href=\"//dbastatic.dk/Content_uex/less/fonts/ProximaNova/DBA_regular.woff\" rel=\"preload\" type=\"font/woff2\"/>\n",
      "  <link as=\"font\" crossorigin=\"\" href=\"//dbastatic.dk/Content_uex/less/fonts/ProximaNova/DBA_bold.woff\" rel=\"preload\" type=\"font/woff2\"/>\n",
      "  <link as=\"style\" href=\"/bundle/css/bootstrap_2.0.0.0-afbb31dd6942d69a10f29c14cc46ebf7ca1f1374?v=u_AKmitfMiTXtjOrs2Jwv-7-Id4rw-_xytZYv0An1JM1\" rel=\"preload\"/>\n",
      "  <link href=\"/bundle/css/bootstrap_2.0.0.0-afbb31dd6942d69a10f29c14cc46ebf7ca1f1374?v=u_AKmit\n"
     ]
    }
   ],
   "source": [
    "from selenium import webdriver\n",
    "from selenium.webdriver.firefox.options import Options\n",
    "from selenium.common.exceptions import ElementNotInteractableException\n",
    "import bs4\n",
    "\n",
    "# I changed the name to fit naming conventions and to show that it is more dynamic than just bikes\n",
    "# However, it is specific to dba.dk\n",
    "class DbaWebScraper():\n",
    "    \n",
    "    # There's no reason to give a URL, since it won't work unless on dba.dk\n",
    "    def __init__(self):\n",
    "        \"\"\"Initiates the web scraping of dba.dk\"\"\"\n",
    "        self.url = 'https://www.dba.dk'\n",
    "        self.listings = []\n",
    "        options = Options()\n",
    "        options.headless = True\n",
    "        self.browser = webdriver.Firefox(options=options)\n",
    "        self.browser.get(self.url)\n",
    "        \n",
    "    def cookie_handler(self):\n",
    "        \"\"\"Handles the cookie pop-up on the site. Doesn't crash if cookie pop-up has already been handled\"\"\"\n",
    "        self.browser.implicitly_wait(2)\n",
    "        btn = self.browser.find_element_by_id('onetrust-reject-all-handler')\n",
    "        try:\n",
    "            btn.click()\n",
    "        except ElementNotInteractableException:\n",
    "            pass\n",
    "        \n",
    "    def first_n_listings(self, search_str, n=15):\n",
    "        \"\"\"Takes a search word and searches \"\"\"\n",
    "        search_field = self.browser.find_element_by_id('searchField')\n",
    "        search_field.send_keys(search_str)\n",
    "        search_field.submit()\n",
    "        links = self.browser.find_elements_by_class_name('listingLink')\n",
    "        links[0].click()\n",
    "        soup = bs4.BeautifulSoup(self.browser.page_source, 'html.parser')\n",
    "        print(soup.prettify()[:1500])\n",
    "    \n",
    "webscraper = DbaWebScraper()\n",
    "webscraper.cookie_handler()\n",
    "#webscraper.cookie_handler()\n",
    "webscraper.first_n_listings('Cykel')\n",
    "#webscraper.first_n_listings('Brætspil')"
   ]
  }
 ],
 "metadata": {
  "kernelspec": {
   "display_name": "Python 3",
   "language": "python",
   "name": "python3"
  },
  "language_info": {
   "codemirror_mode": {
    "name": "ipython",
    "version": 3
   },
   "file_extension": ".py",
   "mimetype": "text/x-python",
   "name": "python",
   "nbconvert_exporter": "python",
   "pygments_lexer": "ipython3",
   "version": "3.7.6"
  }
 },
 "nbformat": 4,
 "nbformat_minor": 4
}
