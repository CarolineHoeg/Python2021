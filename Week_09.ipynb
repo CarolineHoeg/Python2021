{
 "cells": [
  {
   "cell_type": "markdown",
   "metadata": {},
   "source": [
    "# Week 9"
   ]
  },
  {
   "cell_type": "markdown",
   "metadata": {},
   "source": [
    "### 01 Assignment\n",
    "1. load 'data/iris_data.csv' into a dataframe (use decimal=',') and remove the 2 `Petal` columns. Now we are left with a 2D feature space\n",
    "2. get unique labels (Species column)\n",
    "3. plot with a scatter plot each iris flower sample colored by label (3 different colors)\n",
    "![image.png](attachment:image.png)\n",
    "4. use: `MeanShift` and `estimate_bandwidth` from `sklearn.cluster` to first estimate bandwidth and then get the clusters (HINT: estimate_bandwidth() takes an argument: `quantile` set it to `0.2` for best result)\n",
    "5. print out labels, cluster centers and number of clusters (as returned from the MeanShift function)\n",
    "5. create a new scatter plot where each flower is colored according to cluster label\n",
    "6. add a dot for the cluster centers\n",
    "7. Compare the 2 plots (colored by actual labels vs. colored by cluster label)\n",
    "8. Try changing the 'quantile' argument to 0.15 and see what happens to your cluster plot."
   ]
  },
  {
   "cell_type": "markdown",
   "metadata": {},
   "source": [
    "### 02 Status\n",
    "I completed all the exercises. "
   ]
  },
  {
   "cell_type": "markdown",
   "metadata": {},
   "source": [
    "### 03 Solutions"
   ]
  },
  {
   "cell_type": "code",
   "execution_count": 10,
   "metadata": {},
   "outputs": [
    {
     "data": {
      "image/png": "[encoded data removed]",
      "text/plain": [
       "<Figure size 432x288 with 1 Axes>"
      ]
     },
     "metadata": {
      "needs_background": "light"
     },
     "output_type": "display_data"
    }
   ],
   "source": [
    "# 1 - 3\n",
    "import pandas as pd\n",
    "import matplotlib.pyplot as plt\n",
    "\n",
    "df = pd.read_csv('../data/iris_data.csv', decimal=\",\")\n",
    "del df['Petal length']\n",
    "del df['Petal width']\n",
    "\n",
    "unique = df.Species.unique()\n",
    "\n",
    "fig = plt.figure()\n",
    "ax = fig.add_subplot(111)\n",
    "\n",
    "for k, col in zip(unique, 'rgb'):\n",
    "    d = df[df.Species == k]\n",
    "    x, y = d[\"Sepal length\"], d[\"Sepal width\"]\n",
    "    ax.scatter(x, y, c=col, linewidth=0.2)"
   ]
  },
  {
   "cell_type": "code",
   "execution_count": 31,
   "metadata": {},
   "outputs": [
    {
     "name": "stdout",
     "output_type": "stream",
     "text": [
      "Labels: [0 0 0 0 0 0 0 0 0 0 0 0 0 0 0 0 0 0 0 0 0 0 0 0 0 0 0 0 0 0 0 0 0 0 0 0 0\n",
      " 0 0 0 0 0 0 0 0 0 0 0 0 0 2 1 1 1 1 1 1 3 1 1 3 1 1 1 1 1 1 1 1 1 1 1 1 1\n",
      " 1 1 1 1 1 1 1 1 1 1 1 1 1 1 1 1 1 1 1 1 1 1 1 1 1 1 2 2 2 2 2 2 3 2 2 2 2\n",
      " 2 2 3 2 2 2 2 2 2 2 3 2 2 2 2 2 2 2 2 2 2 2 2 2 2 2 2 2 2 2 2 2 2 2 2 2 2\n",
      " 2 2].\n",
      "Cluster centers: [[4.95227273 3.37727273 0.        ]\n",
      " [5.9        2.775      1.        ]\n",
      " [6.49714286 3.         2.        ]\n",
      " [4.9        2.5        2.        ]].\n",
      "Numbers of clusters: 4.\n"
     ]
    }
   ],
   "source": [
    "# 4 - 5\n",
    "from sklearn.cluster import MeanShift, estimate_bandwidth\n",
    "from sklearn import preprocessing\n",
    "import numpy as np\n",
    "\n",
    "label_enc = preprocessing.LabelEncoder()\n",
    "df[\"Species\"] = label_enc.fit_transform(df[\"Species\"].astype(str))\n",
    "\n",
    "def mean_shift(data, quantile=0.2):\n",
    "    bandwith = estimate_bandwidth(data, quantile=quantile)\n",
    "    ms = MeanShift(bandwidth=bandwith)\n",
    "    ms.fit(data)\n",
    "    labels = ms.labels_\n",
    "    cluster_centers = ms.cluster_centers_\n",
    "    labels_unique = np.unique(labels)\n",
    "    n_clusters = len(labels_unique)\n",
    "    \n",
    "    return labels, cluster_centers, n_clusters\n",
    "\n",
    "labels, cluster_centers, n_clusters = mean_shift(df)\n",
    "\n",
    "print(f'Labels: {labels}.')\n",
    "print(f'Cluster centers: {cluster_centers}.')\n",
    "print(f'Numbers of clusters: {n_clusters}.')"
   ]
  },
  {
   "cell_type": "code",
   "execution_count": 32,
   "metadata": {},
   "outputs": [
    {
     "data": {
      "image/png": "[encoded data removed]",
      "text/plain": [
       "<Figure size 432x288 with 1 Axes>"
      ]
     },
     "metadata": {
      "needs_background": "light"
     },
     "output_type": "display_data"
    }
   ],
   "source": [
    "# 6 - 7\n",
    "fig = plt.figure()\n",
    "ax = fig.add_subplot(111)\n",
    "\n",
    "for k, col in zip(range(n_clusters), \"rgb\"):\n",
    "    data = df[labels == k]\n",
    "    x, y = data[\"Sepal length\"], data[\"Sepal width\"]\n",
    "    ax.scatter(x, y, c=col, linewidth=0.2)\n",
    "    cluster_center = cluster_centers[k]\n",
    "    ax.scatter(cluster_center[0], cluster_center[1], c='k', s=70, linewidth=0.2)"
   ]
  },
  {
   "cell_type": "code",
   "execution_count": 29,
   "metadata": {},
   "outputs": [
    {
     "name": "stdout",
     "output_type": "stream",
     "text": [
      "Labels: [0 0 0 0 0 0 0 0 5 0 0 0 0 5 0 0 0 0 0 0 0 0 0 0 0 0 0 0 0 0 0 0 0 0 0 0 0\n",
      " 0 0 0 0 5 0 0 0 0 0 0 0 0 1 2 1 2 2 2 2 2 2 2 2 2 2 2 2 2 2 2 2 2 2 2 2 2\n",
      " 2 2 2 2 2 2 2 2 2 2 2 2 2 2 2 2 2 2 2 2 2 2 2 2 2 2 1 1 1 1 1 3 4 1 1 3 1\n",
      " 1 1 4 1 1 1 3 3 1 1 4 3 1 1 3 1 1 1 1 3 3 1 1 1 3 1 1 1 1 1 1 1 1 1 1 1 1\n",
      " 1 1].\n",
      "Cluster centers: [[4.97435897 3.38205128 0.        ]\n",
      " [6.45483871 3.         2.        ]\n",
      " [5.76451613 2.74193548 1.        ]\n",
      " [7.6        3.73333333 2.        ]\n",
      " [4.9        2.5        2.        ]\n",
      " [4.5        2.3        0.        ]].\n",
      "Numbers of clusters: 6.\n"
     ]
    }
   ],
   "source": [
    "# 9\n",
    "labels, cluster_centers, n_clusters = mean_shift(df, 0.15)\n",
    "\n",
    "print(f'Labels: {labels}.')\n",
    "print(f'Cluster centers: {cluster_centers}.')\n",
    "print(f'Numbers of clusters: {n_clusters}.')"
   ]
  }
 ],
 "metadata": {
  "kernelspec": {
   "display_name": "Python 3",
   "language": "python",
   "name": "python3"
  },
  "language_info": {
   "codemirror_mode": {
    "name": "ipython",
    "version": 3
   },
   "file_extension": ".py",
   "mimetype": "text/x-python",
   "name": "python",
   "nbconvert_exporter": "python",
   "pygments_lexer": "ipython3",
   "version": "3.7.6"
  }
 },
 "nbformat": 4,
 "nbformat_minor": 4
}
