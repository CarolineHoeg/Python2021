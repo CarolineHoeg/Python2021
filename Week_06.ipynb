{
 "cells": [
  {
   "cell_type": "markdown",
   "metadata": {},
   "source": [
    "# Week 6"
   ]
  },
  {
   "cell_type": "markdown",
   "metadata": {},
   "source": [
    "### 01 Assignment\n",
    "\n",
    "[The assignment can be found here.](https://github.com/Hartmannsolution/docker_notebooks/blob/master/notebooks/06-Exercise.ipynb)"
   ]
  },
  {
   "cell_type": "markdown",
   "metadata": {},
   "source": [
    "### 02 Status\n",
    "\n",
    "I completed all the exercises.\n"
   ]
  },
  {
   "cell_type": "markdown",
   "metadata": {},
   "source": [
    "### 03 Solutions\n",
    "#### Exercise 1"
   ]
  },
  {
   "cell_type": "code",
   "execution_count": 1,
   "metadata": {},
   "outputs": [],
   "source": [
    "import modules.week06_ex1 as ex1\n",
    "\n",
    "test = ex1.TextComparer(['https://www.gutenberg.org/files/1952/1952-0.txt', \n",
    "                         'https://www.gutenberg.org/files/2701/2701-0.txt',\n",
    "                         'https://www.gutenberg.org/files/345/345-0.txt',\n",
    "                         'https://www.gutenberg.org/files/74/74-0.txt',\n",
    "                         'https://www.gutenberg.org/files/730/730-0.txt',\n",
    "                         'https://www.gutenberg.org/files/2148/2148-0.txt',\n",
    "                         'https://www.gutenberg.org/files/236/236-0.txt',\n",
    "                         'https://www.gutenberg.org/files/2004/2004-0.txt',\n",
    "                         'https://www.gutenberg.org/files/16/16-0.txt',\n",
    "                         'https://www.gutenberg.org/files/2554/2554-0.txt'])\n",
    "#test.download(\"https://www.gutenberg.org/files/1952/1952-0.txt\", \"download.txt\")\n",
    "#test.multi_download()"
   ]
  },
  {
   "cell_type": "code",
   "execution_count": null,
   "metadata": {},
   "outputs": [],
   "source": []
  }
 ],
 "metadata": {
  "kernelspec": {
   "display_name": "Python 3",
   "language": "python",
   "name": "python3"
  },
  "language_info": {
   "codemirror_mode": {
    "name": "ipython",
    "version": 3
   },
   "file_extension": ".py",
   "mimetype": "text/x-python",
   "name": "python",
   "nbconvert_exporter": "python",
   "pygments_lexer": "ipython3",
   "version": "3.7.6"
  }
 },
 "nbformat": 4,
 "nbformat_minor": 4
}
