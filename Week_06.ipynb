{
 "cells": [
  {
   "cell_type": "markdown",
   "metadata": {},
   "source": [
    "# Week 6"
   ]
  },
  {
   "cell_type": "markdown",
   "metadata": {},
   "source": [
    "### 01 Assignment\n",
    "\n",
    "[The assignment can be found here.](https://github.com/Hartmannsolution/docker_notebooks/blob/master/notebooks/06-Exercise.ipynb)"
   ]
  },
  {
   "cell_type": "markdown",
   "metadata": {},
   "source": [
    "### 02 Status\n",
    "\n",
    "I completed all the exercises.\n"
   ]
  },
  {
   "cell_type": "markdown",
   "metadata": {},
   "source": [
    "### 03 Solutions\n",
    "#### Exercise 1 \n",
    "The solution to exercise 1 can be found in modules/week06_ex1.py\n",
    "#### Exercise 2"
   ]
  },
  {
   "cell_type": "code",
   "execution_count": 5,
   "metadata": {},
   "outputs": [
    {
     "name": "stdout",
     "output_type": "stream",
     "text": [
      "The site you were looking for wasn't found\n"
     ]
    },
    {
     "data": {
      "text/plain": [
       "'download1.txt'"
      ]
     },
     "execution_count": 5,
     "metadata": {},
     "output_type": "execute_result"
    }
   ],
   "source": [
    "# 1 - 2\n",
    "import modules.week06_ex1 as ex1\n",
    "\n",
    "test = ex1.TextComparer(['https://www.gutenberg.org/files/1952/1952-0.txt', \n",
    "                         'https://www.gutenberg.org/files/2701/2701-0.txt',\n",
    "                         'https://www.gutenberg.org/files/345/345-0.txt',\n",
    "                         'https://www.gutenberg.org/files/74/74-0.txt',\n",
    "                         'https://www.gutenberg.org/files/730/730-0.txt',\n",
    "                         'https://www.gutenberg.org/files/2148/2148-0.txt',\n",
    "                         'https://www.gutenberg.org/files/236/236-0.txt',\n",
    "                         'https://www.gutenberg.org/files/2004/2004-0.txt',\n",
    "                         'https://www.gutenberg.org/files/16/16-0.txt',\n",
    "                         'https://www.gutenberg.org/files/2554/2554-0.txt'])\n",
    "test.download(\"https://www.gutenberg.org/files/1952/1952-0.txt\", \"download.txt\")\n",
    "test.download(\"http://ajheu.com/7?\", \"fail.txt\")\n",
    "test.multi_download()\n",
    "test.url_list_generator()\n",
    "test.__iter__()\n",
    "test.__next__()\n",
    "test.__next__()\n",
    "#test.acg_vowels()\n",
    "#test.hardest_read()"
   ]
  },
  {
   "cell_type": "code",
   "execution_count": null,
   "metadata": {},
   "outputs": [],
   "source": [
    "# 3"
   ]
  }
 ],
 "metadata": {
  "kernelspec": {
   "display_name": "Python 3",
   "language": "python",
   "name": "python3"
  },
  "language_info": {
   "codemirror_mode": {
    "name": "ipython",
    "version": 3
   },
   "file_extension": ".py",
   "mimetype": "text/x-python",
   "name": "python",
   "nbconvert_exporter": "python",
   "pygments_lexer": "ipython3",
   "version": "3.7.6"
  }
 },
 "nbformat": 4,
 "nbformat_minor": 4
}
