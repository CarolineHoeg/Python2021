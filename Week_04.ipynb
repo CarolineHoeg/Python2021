{
 "cells": [
  {
   "cell_type": "markdown",
   "metadata": {},
   "source": [
    "# Week 4"
   ]
  },
  {
   "cell_type": "markdown",
   "metadata": {},
   "source": [
    "### 01 Assignment\n",
    "\n",
    "[The assignment can be found here.](https://github.com/Hartmannsolution/docker_notebooks/blob/master/notebooks/04-Exercise.ipynb)"
   ]
  },
  {
   "cell_type": "markdown",
   "metadata": {},
   "source": [
    "### 02 Status\n",
    "\n",
    "I completed the necessary exercises.\n"
   ]
  },
  {
   "cell_type": "markdown",
   "metadata": {},
   "source": [
    "### 03 Solutions\n",
    "#### Exercise 1"
   ]
  },
  {
   "cell_type": "code",
   "execution_count": 10,
   "metadata": {},
   "outputs": [
    {
     "name": "stdout",
     "output_type": "stream",
     "text": [
      "[[2015    1    0 5100  614]\n",
      " [2015    1    0 5104    2]\n",
      " [2015    1    0 5106    1]\n",
      " ...\n",
      " [1992   99   89 5100    1]\n",
      " [1992   99   90 5180    1]\n",
      " [1992   99   93 5100    1]]\n"
     ]
    }
   ],
   "source": [
    "# 1 - 2\n",
    "import numpy as np\n",
    "\n",
    "filename = '../data/befkbhalderstatkode.csv'\n",
    "population_data = np.genfromtxt(filename, delimiter=',', dtype=np.uint, skip_header=1)\n",
    "print(population_data)"
   ]
  },
  {
   "cell_type": "code",
   "execution_count": 18,
   "metadata": {},
   "outputs": [
    {
     "name": "stdout",
     "output_type": "stream",
     "text": [
      "Indre By : 51937\n",
      "Østerbro : 75113\n",
      "Nørrebro : 78802\n",
      "Vesterbro/Kgs. Enghave : 61623\n",
      "Valby : 51727\n",
      "Vanløse : 39537\n",
      "Brønshøj-Husum : 43908\n",
      "Bispebjerg : 53604\n",
      "Amager Øst : 55205\n",
      "Amager Vest : 64967\n",
      "Udenfor : 3872\n"
     ]
    }
   ],
   "source": [
    "# 3\n",
    "neighb = {1: 'Indre By', 2: 'Østerbro', 3: 'Nørrebro', 4: 'Vesterbro/Kgs. Enghave', \n",
    "       5: 'Valby', 6: 'Vanløse', 7: 'Brønshøj-Husum', 8: 'Bispebjerg', 9: 'Amager Øst', \n",
    "       10: 'Amager Vest', 99: 'Udenfor'}\n",
    "dd = population_data\n",
    "\n",
    "def get_pop_by_area(neighborhoods, mask):\n",
    "    sum_of_people = {}\n",
    "    for neighborhood in neighborhoods.keys():\n",
    "        people = dd[mask & (dd[:,1] == neighborhood)] \n",
    "        sum_of_people[neighborhoods[neighborhood]] = people[:,4].sum()\n",
    "    return sum_of_people\n",
    "\n",
    "def print_dict(dic):\n",
    "    for key, value in dic.items():\n",
    "        print(key, \":\" ,value)\n",
    "        \n",
    "mask = (dd[:,0] == 2015)\n",
    "print_dict(get_pop_by_area(neighb, mask))"
   ]
  },
  {
   "cell_type": "code",
   "execution_count": 16,
   "metadata": {},
   "outputs": [
    {
     "data": {
      "text/plain": [
       "Text(0.5, 1.0, 'Size of city areas')"
      ]
     },
     "execution_count": 16,
     "metadata": {},
     "output_type": "execute_result"
    },
    {
     "data": {
      "image/png": "[encoded data removed]",
      "text/plain": [
       "<Figure size 432x288 with 1 Axes>"
      ]
     },
     "metadata": {
      "needs_background": "light"
     },
     "output_type": "display_data"
    }
   ],
   "source": [
    "# 4\n",
    "import matplotlib.pyplot as plt\n",
    "\n",
    "data = get_pop_by_area(neighb, mask)\n",
    "population = sorted(data.values()) \n",
    "areas = sorted(data, key=data.get)\n",
    "\n",
    "plt.bar(areas, population)\n",
    "plt.xticks(rotation=90)\n",
    "plt.title(\"Size of city areas\")"
   ]
  },
  {
   "cell_type": "code",
   "execution_count": 14,
   "metadata": {},
   "outputs": [
    {
     "name": "stdout",
     "output_type": "stream",
     "text": [
      "Indre By : 6818\n",
      "Østerbro : 8370\n",
      "Nørrebro : 5059\n",
      "Vesterbro/Kgs. Enghave : 3984\n",
      "Valby : 5397\n",
      "Vanløse : 4668\n",
      "Brønshøj-Husum : 5461\n",
      "Bispebjerg : 4945\n",
      "Amager Øst : 5027\n",
      "Amager Vest : 5971\n",
      "Udenfor : 50\n"
     ]
    }
   ],
   "source": [
    "# 5\n",
    "mask = (dd[:,0] == 2015) & (dd[:,2] > 65)\n",
    "\n",
    "print_dict(get_pop_by_area(neighb, mask))"
   ]
  },
  {
   "cell_type": "code",
   "execution_count": 28,
   "metadata": {},
   "outputs": [
    {
     "name": "stdout",
     "output_type": "stream",
     "text": [
      "Indre By : 131\n",
      "Østerbro : 111\n",
      "Nørrebro : 57\n",
      "Vesterbro/Kgs. Enghave : 43\n",
      "Valby : 41\n",
      "Vanløse : 28\n",
      "Brønshøj-Husum : 43\n",
      "Bispebjerg : 45\n",
      "Amager Øst : 41\n",
      "Amager Vest : 66\n",
      "Udenfor : 2\n"
     ]
    }
   ],
   "source": [
    "# 6\n",
    "def get_elder_in_nordic_countries():\n",
    "    nordic_countries = [5101,5104,5106,5110,5120]\n",
    "    elders = {}\n",
    "    for nc in nordic_countries:\n",
    "        mask = (dd[:,0] == 2015) & (dd[:,2] > 65) & (dd[:,3] == nc) \n",
    "        temp_elders = get_pop_by_area(neighb, mask)\n",
    "        if elders == {}:\n",
    "            elders.update(temp_elders)\n",
    "        else:\n",
    "            for key, value in temp_elders.items():\n",
    "                elders[key] += value\n",
    "    return elders\n",
    "    \n",
    "print_dict(get_elder_in_nordic_countries())"
   ]
  },
  {
   "cell_type": "code",
   "execution_count": 17,
   "metadata": {},
   "outputs": [
    {
     "data": {
      "text/plain": [
       "<matplotlib.legend.Legend at 0x7f1d7a11b710>"
      ]
     },
     "execution_count": 17,
     "metadata": {},
     "output_type": "execute_result"
    },
    {
     "data": {
      "image/png": "[encoded data removed]",
      "text/plain": [
       "<Figure size 432x288 with 1 Axes>"
      ]
     },
     "metadata": {
      "needs_background": "light"
     },
     "output_type": "display_data"
    }
   ],
   "source": [
    "# 7\n",
    "city_østerbro = (dd[:,1] == 2) \n",
    "city_vesterbro = (dd[:,1] == 4) \n",
    "set_of_years = np.unique(dd[:,0])\n",
    "østerbro = np.array([np.sum(dd[city_østerbro & (dd[:,0] == year)][:,4]) \n",
    "                      for year in set_of_years])\n",
    "vesterbro = np.array([np.sum(dd[city_vesterbro & (dd[:,0] == year)][:,4]) \n",
    "                      for year in set_of_years])\n",
    "\n",
    "p1 = plt.plot(set_of_years, østerbro, linewidth=4, label=\"Østerbro\")\n",
    "p2 = plt.plot(set_of_years, vesterbro, linewidth=4, label=\"Vesterbro\")\n",
    "plt.title(\"Population over time\")\n",
    "plt.xticks(rotation=90)\n",
    "plt.legend()"
   ]
  },
  {
   "cell_type": "markdown",
   "metadata": {},
   "source": [
    "#### Exercise 2"
   ]
  },
  {
   "cell_type": "code",
   "execution_count": 11,
   "metadata": {},
   "outputs": [],
   "source": [
    "# 1\n",
    "import pandas as pd \n",
    "\n",
    "url = 'https://api.statbank.dk/v1/data/FOLK1A/CSV?valuePresentation=Code&delimiter=Semicolon&OMR%C3%85DE=000%2C084%2C147%2C400%2C085%2C083%2C082%2C081%2C851%2C461%2C561%2C751&K%C3%98N=1%2C2&ALDER=0%2C1%2C2%2C3%2C4%2C5%2C6%2C7%2C8%2C9%2C10%2C11%2C12%2C13%2C14%2C15%2C16%2C17%2C18%2C19%2C20%2C21%2C22%2C23%2C24%2C25%2C26%2C27%2C28%2C29%2C30%2C31%2C32%2C33%2C34%2C35%2C36%2C37%2C3%2C39%2C40%2C41%2C42%2C43%2C44%2C45%2C46%2C47%2C48%2C49%2C50%2C51%2C52%2C53%2C54%2C55%2C56%2C57%2C58%2C59%2C60%2C61%2C62%2C63%2C64%2C65%2C66%2C67%2C68%2C69%2C70%2C71%2C72%2C73%2C74%2C75%2C76%2C77%2C78%2C79%2C80%2C81%2C82%2C83%2C84%2C85%2C86%2C87%2C88%2C89%2C90%2C91%2C92%2C93%2C94%2C95%2C96%2C97%2C98%2C99%2C100&Tid=2008K1%2C2009K1%2C2010K1%2C2011K1%2C2012K1%2C2013K1%2C2014K1%2C2015K1%2C2016K1%2C2017K1%2C2018K1%2C2019K1%2C2020K1'\n",
    "df = pd.read_csv(url,sep=';')\n",
    "df['TID'] = df['TID'].map(lambda x:x[:-2]) #cut the last 2 characters\n",
    "df.to_csv('demografic_cleaned.csv',header=False, index=False)"
   ]
  },
  {
   "cell_type": "code",
   "execution_count": 2,
   "metadata": {},
   "outputs": [
    {
     "name": "stdout",
     "output_type": "stream",
     "text": [
      "[[    0     1     0  2008 32976]\n",
      " [    0     1     0  2009 33656]\n",
      " [    0     1     0  2010 32435]\n",
      " ...\n",
      " [  751     2   100  2018    18]\n",
      " [  751     2   100  2019    21]\n",
      " [  751     2   100  2020    23]]\n"
     ]
    }
   ],
   "source": [
    "# 2\n",
    "demographic_data = np.loadtxt('demografic_cleaned.csv', delimiter=',', dtype=np.uint)\n",
    "print(demographic_data)"
   ]
  },
  {
   "cell_type": "code",
   "execution_count": 3,
   "metadata": {},
   "outputs": [],
   "source": [
    "# 3"
   ]
  }
 ],
 "metadata": {
  "kernelspec": {
   "display_name": "Python 3",
   "language": "python",
   "name": "python3"
  },
  "language_info": {
   "codemirror_mode": {
    "name": "ipython",
    "version": 3
   },
   "file_extension": ".py",
   "mimetype": "text/x-python",
   "name": "python",
   "nbconvert_exporter": "python",
   "pygments_lexer": "ipython3",
   "version": "3.7.6"
  }
 },
 "nbformat": 4,
 "nbformat_minor": 4
}
