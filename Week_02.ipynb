{
 "cells": [
  {
   "cell_type": "markdown",
   "metadata": {},
   "source": [
    "# Week 2"
   ]
  },
  {
   "cell_type": "markdown",
   "metadata": {},
   "source": [
    "### 01 Assignment\n",
    "\n",
    "[The assignment can be found here.](https://github.com/Hartmannsolution/docker_notebooks/blob/master/notebooks/02-Exercise.ipynb)"
   ]
  },
  {
   "cell_type": "markdown",
   "metadata": {},
   "source": [
    "### 02 Status\n",
    "\n",
    "I completed all the exercises. "
   ]
  },
  {
   "cell_type": "markdown",
   "metadata": {},
   "source": [
    "### 03 Solutions\n",
    "#### Exercise 1"
   ]
  },
  {
   "cell_type": "code",
   "execution_count": 1,
   "metadata": {},
   "outputs": [
    {
     "name": "stdout",
     "output_type": "stream",
     "text": [
      "text\n",
      "word\n",
      "hi there\n",
      "bla bla\n"
     ]
    }
   ],
   "source": [
    "# 1.A\n",
    "import modules.exercise1 as func\n",
    "\n",
    "file = 'modules/text.csv'\n",
    "func.print_file_content(file)"
   ]
  },
  {
   "cell_type": "code",
   "execution_count": 12,
   "metadata": {},
   "outputs": [],
   "source": [
    "# 1.B\n",
    "import modules.exercise1 as func\n",
    "\n",
    "output_file = 'modules/text.txt'\n",
    "lst = ['text', 'word', 'hi there', 'bla bla', 'list']\n",
    "func.write_list_to_file(output_file, lst)\n",
    "\n",
    "# 1.Ba\n",
    "func.write_to_file(output_file, 'text', 'word', \n",
    "                   'hi there', 'bla bla', 'strings')"
   ]
  },
  {
   "cell_type": "code",
   "execution_count": 14,
   "metadata": {},
   "outputs": [],
   "source": [
    "# 1.C\n",
    "import modules.exercise1 as func\n",
    "\n",
    "input_file = 'module/text.csv'\n",
    "lst = func.read_csv(input_file)\n",
    "print(lst)"
   ]
  },
  {
   "cell_type": "code",
   "execution_count": null,
   "metadata": {},
   "outputs": [],
   "source": []
  }
 ],
 "metadata": {
  "kernelspec": {
   "display_name": "Python 3",
   "language": "python",
   "name": "python3"
  },
  "language_info": {
   "codemirror_mode": {
    "name": "ipython",
    "version": 3
   },
   "file_extension": ".py",
   "mimetype": "text/x-python",
   "name": "python",
   "nbconvert_exporter": "python",
   "pygments_lexer": "ipython3",
   "version": "3.7.6"
  }
 },
 "nbformat": 4,
 "nbformat_minor": 4
}
