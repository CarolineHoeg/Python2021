{
 "cells": [
  {
   "cell_type": "markdown",
   "metadata": {},
   "source": [
    "# Week 2"
   ]
  },
  {
   "cell_type": "markdown",
   "metadata": {},
   "source": [
    "### 01 Assignment\n",
    "\n",
    "[The assignment can be found here.](https://github.com/Hartmannsolution/docker_notebooks/blob/master/notebooks/02-Exercise.ipynb)"
   ]
  },
  {
   "cell_type": "markdown",
   "metadata": {},
   "source": [
    "### 02 Status\n",
    "\n",
    "I completed all the exercises. "
   ]
  },
  {
   "cell_type": "markdown",
   "metadata": {},
   "source": [
    "### 03 Solutions\n",
    "#### Exercise 1"
   ]
  },
  {
   "cell_type": "code",
   "execution_count": 24,
   "metadata": {},
   "outputs": [
    {
     "name": "stdout",
     "output_type": "stream",
     "text": [
      "text\n",
      "word\n",
      "hi there\n",
      "bla bla\n"
     ]
    }
   ],
   "source": [
    "# 1.A\n",
    "import modules.week01_ex1 as ex1\n",
    "\n",
    "file = 'modules/files/text.csv'\n",
    "ex1.print_file_content(file)"
   ]
  },
  {
   "cell_type": "code",
   "execution_count": 26,
   "metadata": {},
   "outputs": [
    {
     "name": "stdout",
     "output_type": "stream",
     "text": [
      "text\n",
      "word\n",
      "hi there\n",
      "bla bla\n",
      "list\n",
      "\n",
      "text\n",
      "word\n",
      "hi there\n",
      "bla bla\n",
      "strings\n",
      "\n"
     ]
    }
   ],
   "source": [
    "# 1.B\n",
    "import modules.week01_ex1 as ex1\n",
    "\n",
    "output_file = 'modules/files/text.txt'\n",
    "lst = ['text', 'word', 'hi there', 'bla bla', 'list']\n",
    "ex1.write_list_to_file(output_file, lst)\n",
    "ex1.print_file_content('modules/files/text.txt')\n",
    "\n",
    "# 1.Ba\n",
    "ex1.write_to_file(output_file, 'text', 'word', 'hi there', 'bla bla', 'strings')\n",
    "ex1.print_file_content('modules/files/text.txt')"
   ]
  },
  {
   "cell_type": "code",
   "execution_count": 27,
   "metadata": {},
   "outputs": [
    {
     "name": "stdout",
     "output_type": "stream",
     "text": [
      "['text', 'word', 'hi there', 'bla bla']\n"
     ]
    }
   ],
   "source": [
    "# 1.C\n",
    "import modules.week01_ex1 as ex1\n",
    "\n",
    "input_file = 'modules/files/text.csv'\n",
    "print(ex1.read_csv(input_file))"
   ]
  },
  {
   "cell_type": "markdown",
   "metadata": {},
   "source": [
    "#### Exercise 2"
   ]
  },
  {
   "cell_type": "code",
   "execution_count": 28,
   "metadata": {},
   "outputs": [
    {
     "name": "stdout",
     "output_type": "stream",
     "text": [
      "arbitrary.txt\n",
      "markdown.md\n",
      "markdown2.md\n",
      "text.csv\n",
      "text.txt\n",
      "text2.txt\n",
      "\n",
      "Hi\n",
      "\n",
      "text\n",
      "\n",
      "Customer info\n",
      "\n",
      "arb@gmail.com\n",
      "a@hotmail.com\n",
      "\n",
      "b@gmail\n",
      "\n",
      "# Title\n",
      "\n",
      "## Smaller title\n",
      "\n",
      "# Headline\n",
      "\n",
      "## Internet is awesome\n",
      "\n",
      "# Hell yeah\n",
      "\n",
      "\n"
     ]
    }
   ],
   "source": [
    "# 2\n",
    "import modules.utils as ex2\n",
    "import modules.week01_ex1 as ex1\n",
    "\n",
    "ex2.get_file_names('./modules/files')\n",
    "ex1.print_file_content('output.txt')\n",
    "\n",
    "#ex2.get_all_file_names('.')\n",
    "#ex1.print_file_content('output.txt')\n",
    "\n",
    "ex2.print_line_one([\"./modules/files/arbitrary.txt\", \"./modules/files/text.txt\", \"./modules/files/text2.txt\"])\n",
    "\n",
    "ex2.print_emails([\"./modules/files/arbitrary.txt\", \"./modules/files/text.txt\", \"./modules/files/text2.txt\"])\n",
    "\n",
    "ex2.write_headlines([\"./modules/files/markdown.md\", \"./modules/files/markdown2.md\"])\n",
    "ex1.print_file_content('output.txt')"
   ]
  }
 ],
 "metadata": {
  "kernelspec": {
   "display_name": "Python 3",
   "language": "python",
   "name": "python3"
  },
  "language_info": {
   "codemirror_mode": {
    "name": "ipython",
    "version": 3
   },
   "file_extension": ".py",
   "mimetype": "text/x-python",
   "name": "python",
   "nbconvert_exporter": "python",
   "pygments_lexer": "ipython3",
   "version": "3.7.6"
  }
 },
 "nbformat": 4,
 "nbformat_minor": 4
}
